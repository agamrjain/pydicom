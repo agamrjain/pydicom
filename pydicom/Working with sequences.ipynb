{
 "cells": [
  {
   "cell_type": "markdown",
   "metadata": {},
   "source": [
    "* 예제 핵심 : attribute 중에 sequence 타입을 생성하는 방법을 배운다. \n",
    "    * Seqeunce(<list of 'Dataset'>) 형태로 생성\n",
    "* RT Plan의 데이터 구조 (https://dicom.innolitics.com/ciods/rt-plan 참고)\n",
    "    * RT Plan (전체 데이터) :plan_ds \n",
    "        * BeamSequence : Sequence([beam])\n",
    "            * BlockSequence : Sequence([block_ds1, block_ds2])\n",
    "                * BlockType\n",
    "                * BlockName \n",
    "            * NumberOfBlocks : BlockSequence에 추가해주는 것에 맞추어 업데이트 필요"
   ]
  },
  {
   "cell_type": "code",
   "execution_count": 2,
   "metadata": {},
   "outputs": [
    {
     "name": "stdout",
     "output_type": "stream",
     "text": [
      "Number of blocks: [(300a, 00f8) Block Type                          CS: 'APERTURE'\n",
      "(300a, 00fe) Block Name                          LO: 'Block1'(300a, 00f8) Block Type                          CS: 'APERTURE'\n",
      "(300a, 00fe) Block Name                          LO: 'Block2']\n"
     ]
    }
   ],
   "source": [
    "from pydicom.sequence import Sequence\n",
    "from pydicom.dataset import Dataset\n",
    "\n",
    "# create to toy datasets\n",
    "block_ds1 = Dataset()\n",
    "block_ds1.BlockType = \"APERTURE\"\n",
    "block_ds1.BlockName = \"Block1\"\n",
    "\n",
    "block_ds2 = Dataset()\n",
    "block_ds2.BlockType = \"APERTURE\"\n",
    "block_ds2.BlockName = \"Block2\"\n",
    "\n",
    "beam = Dataset()\n",
    "# note that you should add beam data elements like BeamName, etc; these are\n",
    "# skipped in this example\n",
    "plan_ds = Dataset()\n",
    "# starting from scratch since we did not read a file\n",
    "plan_ds.BeamSequence = Sequence([beam])\n",
    "plan_ds.BeamSequence[0].BlockSequence = Sequence([block_ds1, block_ds2])\n",
    "plan_ds.BeamSequence[0].NumberOfBlocks = 2\n",
    "\n",
    "beam0 = plan_ds.BeamSequence[0]\n",
    "print('Number of blocks: {}'.format(beam0.BlockSequence))\n",
    "\n",
    "# create a new data set\n",
    "block_ds3 = Dataset()\n",
    "# add data elements to it as above and don't forget to update Number of Blocks\n",
    "# data element\n",
    "beam0.BlockSequence.append(block_ds3)\n",
    "del plan_ds.BeamSequence[0].BlockSequence[1]"
   ]
  },
  {
   "cell_type": "code",
   "execution_count": null,
   "metadata": {},
   "outputs": [],
   "source": []
  }
 ],
 "metadata": {
  "kernelspec": {
   "display_name": "Python 3",
   "language": "python",
   "name": "python3"
  },
  "language_info": {
   "codemirror_mode": {
    "name": "ipython",
    "version": 3
   },
   "file_extension": ".py",
   "mimetype": "text/x-python",
   "name": "python",
   "nbconvert_exporter": "python",
   "pygments_lexer": "ipython3",
   "version": "3.7.2"
  }
 },
 "nbformat": 4,
 "nbformat_minor": 2
}
