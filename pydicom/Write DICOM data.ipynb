{
 "cells": [
  {
   "cell_type": "markdown",
   "metadata": {},
   "source": [
    "* 예제 핵심 : 새로운 DICOM 파일을 생성하여 file meta information, attribute을 설정하고 저장한다. \n",
    "    * File meta information은 Dataset을 통해 생성하고, 그 외 attribute 들은 FileDataset을 통해 생성한다. \n",
    "    * liitle endian, implicit VR 에 대한 설정을 한다. \n",
    "    * <'FileDataset' class>의 save_as 를 통해 저장한다. \n",
    "    * 본 예제에는 Pixel Data에 대한 생성은 없음**\n",
    "* os.remove : 파일 삭제 \n",
    "* tempfile : 임시 파일을 생성하기 위한 모듈. 임시 파일에 맞게 이름을 적당한 랜덤으로 생성해준다. 확장자(suffix)를 지정할 수 있고, 그외 디렉토리 등도 원하면 지정할 수 있는 듯. (https://docs.python.org/3/library/tempfile.html)"
   ]
  },
  {
   "cell_type": "code",
   "execution_count": 3,
   "metadata": {},
   "outputs": [
    {
     "name": "stdout",
     "output_type": "stream",
     "text": [
      "/var/folders/q0/054bp2592gbc54h12rv1gdq00000gn/T/tmpnxwm5zu3.dcm\n",
      "Setting file meta information...\n",
      "Setting dataset values...\n",
      "Writing test file /var/folders/q0/054bp2592gbc54h12rv1gdq00000gn/T/tmpnxwm5zu3.dcm\n",
      "File saved.\n",
      "Writing test file as Big Endian Explicit VR /var/folders/q0/054bp2592gbc54h12rv1gdq00000gn/T/tmp28hd9d4j.dcm\n",
      "Load file /var/folders/q0/054bp2592gbc54h12rv1gdq00000gn/T/tmpnxwm5zu3.dcm ...\n",
      "(0008, 0023) Content Date                        DA: '20190311'\n",
      "(0008, 0033) Content Time                        TM: '232144.066926'\n",
      "(0010, 0010) Patient's Name                      PN: 'Test^Firstname'\n",
      "(0010, 0020) Patient ID                          LO: '123456'\n",
      "Remove file /var/folders/q0/054bp2592gbc54h12rv1gdq00000gn/T/tmpnxwm5zu3.dcm ...\n",
      "Load file /var/folders/q0/054bp2592gbc54h12rv1gdq00000gn/T/tmp28hd9d4j.dcm ...\n",
      "(0008, 0023) Content Date                        DA: '20190311'\n",
      "(0008, 0033) Content Time                        TM: '232144.066926'\n",
      "(0010, 0010) Patient's Name                      PN: 'Test^Firstname'\n",
      "(0010, 0020) Patient ID                          LO: '123456'\n",
      "Remove file /var/folders/q0/054bp2592gbc54h12rv1gdq00000gn/T/tmp28hd9d4j.dcm ...\n"
     ]
    }
   ],
   "source": [
    "# authors : Guillaume Lemaitre <g.lemaitre58@gmail.com>\n",
    "# license : MIT\n",
    "\n",
    "import os\n",
    "import tempfile\n",
    "import datetime\n",
    "\n",
    "import pydicom\n",
    "from pydicom.dataset import Dataset, FileDataset\n",
    "\n",
    "# Create some temporary filenames\n",
    "suffix = '.dcm'\n",
    "filename_little_endian = tempfile.NamedTemporaryFile(suffix=suffix).name\n",
    "print(filename_little_endian)\n",
    "filename_big_endian = tempfile.NamedTemporaryFile(suffix=suffix).name\n",
    "\n",
    "print(\"Setting file meta information...\")\n",
    "# Populate required values for file meta information\n",
    "file_meta = Dataset()\n",
    "file_meta.MediaStorageSOPClassUID = '1.2.840.10008.5.1.4.1.1.2'\n",
    "file_meta.MediaStorageSOPInstanceUID = \"1.2.3\"\n",
    "file_meta.ImplementationClassUID = \"1.2.3.4\"\n",
    "\n",
    "print(\"Setting dataset values...\")\n",
    "# Create the FileDataset instance (initially no data elements, but file_meta\n",
    "# supplied)\n",
    "ds = FileDataset(filename_little_endian, {},\n",
    "                 file_meta=file_meta, preamble=b\"\\0\" * 128)\n",
    "\n",
    "# Add the data elements -- not trying to set all required here. Check DICOM\n",
    "# standard\n",
    "ds.PatientName = \"Test^Firstname\"\n",
    "ds.PatientID = \"123456\"\n",
    "\n",
    "# Set the transfer syntax\n",
    "ds.is_little_endian = True\n",
    "ds.is_implicit_VR = True\n",
    "\n",
    "# Set creation date/time\n",
    "dt = datetime.datetime.now()\n",
    "ds.ContentDate = dt.strftime('%Y%m%d')\n",
    "timeStr = dt.strftime('%H%M%S.%f')  # long format with micro seconds\n",
    "ds.ContentTime = timeStr\n",
    "\n",
    "print(\"Writing test file\", filename_little_endian)\n",
    "ds.save_as(filename_little_endian)\n",
    "print(\"File saved.\")\n",
    "\n",
    "# Write as a different transfer syntax XXX shouldn't need this but pydicom\n",
    "# 0.9.5 bug not recognizing transfer syntax\n",
    "ds.file_meta.TransferSyntaxUID = pydicom.uid.ExplicitVRBigEndian\n",
    "ds.is_little_endian = False\n",
    "ds.is_implicit_VR = False\n",
    "\n",
    "print(\"Writing test file as Big Endian Explicit VR\", filename_big_endian)\n",
    "ds.save_as(filename_big_endian)\n",
    "\n",
    "# reopen the data just for checking\n",
    "for filename in (filename_little_endian, filename_big_endian):\n",
    "    print('Load file {} ...'.format(filename))\n",
    "    ds = pydicom.dcmread(filename)\n",
    "    print(ds)\n",
    "\n",
    "    # remove the created file\n",
    "    print('Remove file {} ...'.format(filename))\n",
    "    os.remove(filename)"
   ]
  },
  {
   "cell_type": "code",
   "execution_count": null,
   "metadata": {},
   "outputs": [],
   "source": []
  }
 ],
 "metadata": {
  "kernelspec": {
   "display_name": "Python 3",
   "language": "python",
   "name": "python3"
  },
  "language_info": {
   "codemirror_mode": {
    "name": "ipython",
    "version": 3
   },
   "file_extension": ".py",
   "mimetype": "text/x-python",
   "name": "python",
   "nbconvert_exporter": "python",
   "pygments_lexer": "ipython3",
   "version": "3.7.2"
  }
 },
 "nbformat": 4,
 "nbformat_minor": 2
}
