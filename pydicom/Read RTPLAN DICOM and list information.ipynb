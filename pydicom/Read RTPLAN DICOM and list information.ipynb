{
 "cells": [
  {
   "cell_type": "markdown",
   "metadata": {},
   "source": [
    "* __예제 요약__ : pydicom.dataset.FileDataset의 많은 정보들 중 원하는 것만 추려내는 함수 구현 "
   ]
  },
  {
   "cell_type": "code",
   "execution_count": 37,
   "metadata": {},
   "outputs": [
    {
     "name": "stdout",
     "output_type": "stream",
     "text": [
      "Automatically created module for IPython interactive environment\n",
      "  Beam name    Number   Gantry   SSD (cm)  \n",
      "   Field 1           1      0.0     89.8\n"
     ]
    }
   ],
   "source": [
    "# authors : Guillaume Lemaitre <g.lemaitre58@gmail.com>\n",
    "# license : MIT\n",
    "\n",
    "from __future__ import print_function\n",
    "\n",
    "import pydicom\n",
    "from pydicom.data import get_testdata_files\n",
    "\n",
    "print(__doc__)\n",
    "\n",
    "\n",
    "def list_beams(plan_dataset):\n",
    "    \"\"\"Summarizes the RTPLAN beam information in the dataset.\"\"\"\n",
    "    lines = [\"{name:^13s} {num:^8s} {gantry:^8s} {ssd:^11s}\".format(\n",
    "        name=\"Beam name\", num=\"Number\", gantry=\"Gantry\", ssd=\"SSD (cm)\")]\n",
    "    for beam in plan_dataset.BeamSequence:\n",
    "        cp0 = beam.ControlPointSequence[0]\n",
    "        SSD = float(cp0.SourceToSurfaceDistance / 10)\n",
    "        lines.append(\"{b.BeamName:^13s} {b.BeamNumber:8d} \"\n",
    "                     \"{gantry:8.1f} {ssd:8.1f}\".format(b=beam,\n",
    "                                                       gantry=cp0.GantryAngle,\n",
    "                                                       ssd=SSD))\n",
    "    return \"\\n\".join(lines)\n",
    "\n",
    "\n",
    "filename = get_testdata_files('rtplan.dcm')[0]\n",
    "dataset = pydicom.dcmread(filename)\n",
    "print(list_beams(dataset))"
   ]
  },
  {
   "cell_type": "code",
   "execution_count": 38,
   "metadata": {},
   "outputs": [],
   "source": [
    "from __future__ import print_function"
   ]
  },
  {
   "cell_type": "markdown",
   "metadata": {},
   "source": [
    "* python2를 사용하는 경우에 python2에서의 print문이 python3와 동일하게 동작하도록 하기 위한 것\n",
    "* 단, comma로 구분된 경우에 대해 python2는 튜플로 출력하고, python3는 스페이스로 구분하는 것을 python3 방식으로 일괄합치는 것인데, 본 코드에서는 그러한 이슈는 없음\n",
    "* 참고 : http://www.hanbit.co.kr/network/category/category_view.html?cms_code=CMS9324226566"
   ]
  }
 ],
 "metadata": {
  "kernelspec": {
   "display_name": "Python 3",
   "language": "python",
   "name": "python3"
  },
  "language_info": {
   "codemirror_mode": {
    "name": "ipython",
    "version": 3
   },
   "file_extension": ".py",
   "mimetype": "text/x-python",
   "name": "python",
   "nbconvert_exporter": "python",
   "pygments_lexer": "ipython3",
   "version": "3.7.2"
  }
 },
 "nbformat": 4,
 "nbformat_minor": 2
}
