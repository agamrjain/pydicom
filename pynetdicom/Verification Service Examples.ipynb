{
 "cells": [
  {
   "cell_type": "code",
   "execution_count": 1,
   "metadata": {},
   "outputs": [],
   "source": [
    "import logging\n",
    "\n",
    "LOGGER = logging.getLogger('pynetdicom')\n",
    "LOGGER.setLevel(logging.DEBUG)"
   ]
  },
  {
   "cell_type": "markdown",
   "metadata": {},
   "source": [
    "# Verification SCU"
   ]
  },
  {
   "cell_type": "code",
   "execution_count": 2,
   "metadata": {},
   "outputs": [
    {
     "name": "stderr",
     "output_type": "stream",
     "text": [
      "E: Association request failed: unable to connect to remote\n",
      "E: TCP Initialisation Error: Connection refused\n",
      "E: Association Aborted\n"
     ]
    },
    {
     "name": "stdout",
     "output_type": "stream",
     "text": [
      "Association rejected, aborted or never connected\n"
     ]
    }
   ],
   "source": [
    "from pynetdicom import AE\n",
    "from pynetdicom.sop_class import VerificationSOPClass\n",
    "\n",
    "# Initialise the Application Entity\n",
    "ae = AE()\n",
    "\n",
    "# Add a requested presentation context\n",
    "ae.add_requested_context(VerificationSOPClass)\n",
    "\n",
    "# Associate with peer AE at IP 127.0.0.1 and port 11112\n",
    "assoc = ae.associate('127.0.0.1', 11112)\n",
    "\n",
    "if assoc.is_established:\n",
    "    # Use the C-ECHO service to send the request\n",
    "    # returns the response status a pydicom Dataset\n",
    "    status = assoc.send_c_echo()\n",
    "\n",
    "    # Check the status of the verification request\n",
    "    if status:\n",
    "        # If the verification request succeeded this will be 0x0000\n",
    "        print('C-ECHO request status: 0x{0:04x}'.format(status.Status))\n",
    "    else:\n",
    "        print('Connection timed out, was aborted or received invalid response')\n",
    "\n",
    "    # Release the association\n",
    "    assoc.release()\n",
    "else:\n",
    "    print('Association rejected, aborted or never connected')"
   ]
  },
  {
   "cell_type": "code",
   "execution_count": 3,
   "metadata": {},
   "outputs": [],
   "source": [
    "from pynetdicom import AE, VerificationPresentationContexts\n",
    "\n",
    "ae = AE()\n",
    "ae.requested_contexts = VerificationPresentationContexts"
   ]
  },
  {
   "cell_type": "markdown",
   "metadata": {},
   "source": [
    "# Verification SCP"
   ]
  },
  {
   "cell_type": "code",
   "execution_count": null,
   "metadata": {},
   "outputs": [],
   "source": [
    "from pynetdicom import AE\n",
    "from pynetdicom.sop_class import VerificationSOPClass\n",
    "\n",
    "# Initialise the Application Entity and specify the listen port\n",
    "ae = AE()\n",
    "\n",
    "# Add the supported presentation context\n",
    "ae.add_supported_context(VerificationSOPClass)\n",
    "\n",
    "# Start listening for incoming association requests in blocking mode\n",
    "ae.start_server(('', 11112), block=True)"
   ]
  },
  {
   "cell_type": "code",
   "execution_count": null,
   "metadata": {},
   "outputs": [],
   "source": [
    "import time\n",
    "\n",
    "from pynetdicom import AE\n",
    "from pynetdicom.sop_class import VerificationSOPClass\n",
    "\n",
    "# Initialise the Application Entity and specify the listen port\n",
    "ae = AE()\n",
    "\n",
    "# Add the supported presentation context\n",
    "ae.add_supported_context(VerificationSOPClass)\n",
    "\n",
    "def on_c_echo(context, info):\n",
    "    \"\"\"Respond to a C-ECHO service request.\n",
    "\n",
    "    Parameters\n",
    "    ----------\n",
    "    context : namedtuple\n",
    "        The presentation context that the verification request was sent under.\n",
    "    info : dict\n",
    "        Information about the association and verification request.\n",
    "\n",
    "    Returns\n",
    "    -------\n",
    "    status : int or pydicom.dataset.Dataset\n",
    "        The status returned to the peer AE in the C-ECHO response. Must be\n",
    "        a valid C-ECHO status value for the applicable Service Class as\n",
    "        either an ``int`` or a ``Dataset`` object containing (at a\n",
    "        minimum) a (0000,0900) *Status* element.\n",
    "    \"\"\"\n",
    "    return 0x0000\n",
    "\n",
    "ae.on_c_echo = on_c_echo\n",
    "\n",
    "# Start listening for incoming association requests in non-blocking mode\n",
    "scp = ae.start_server(('', 11112), block=False)\n",
    "\n",
    "# Zzzzz\n",
    "time.sleep(60)\n",
    "\n",
    "# Shutdown the listen server\n",
    "scp.shutdown()"
   ]
  },
  {
   "cell_type": "code",
   "execution_count": null,
   "metadata": {},
   "outputs": [],
   "source": []
  }
 ],
 "metadata": {
  "kernelspec": {
   "display_name": "Python 3",
   "language": "python",
   "name": "python3"
  },
  "language_info": {
   "codemirror_mode": {
    "name": "ipython",
    "version": 3
   },
   "file_extension": ".py",
   "mimetype": "text/x-python",
   "name": "python",
   "nbconvert_exporter": "python",
   "pygments_lexer": "ipython3",
   "version": "3.7.2"
  }
 },
 "nbformat": 4,
 "nbformat_minor": 2
}
